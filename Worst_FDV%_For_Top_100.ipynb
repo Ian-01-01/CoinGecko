{
 "cells": [
  {
   "cell_type": "code",
   "execution_count": 136,
   "id": "d34628c3",
   "metadata": {},
   "outputs": [],
   "source": [
    "from tabulate import tabulate"
   ]
  },
  {
   "cell_type": "code",
   "execution_count": 137,
   "id": "72dd5816",
   "metadata": {},
   "outputs": [],
   "source": [
    "def import_markets():\n",
    "    %run CoinGecko_Daily_Coin_Prices.ipynb\n",
    "    return markets\n",
    "markets = import_markets()"
   ]
  },
  {
   "cell_type": "code",
   "execution_count": 138,
   "id": "bf590fce",
   "metadata": {},
   "outputs": [],
   "source": [
    "def find_fdv_percentages():    \n",
    "    fdv_percentages = []\n",
    "    for dictionary in markets:\n",
    "        try:\n",
    "            fdv_percentage = round(dictionary['market_cap'] / dictionary['fully_diluted_valuation'], 2)\n",
    "            if fdv_percentage < .50:\n",
    "                fdv_percentages.append((dictionary['id'], fdv_percentage))\n",
    "        except TypeError:\n",
    "            # Handle the case if the required keys are missing in the dictionary\n",
    "            pass\n",
    "    return fdv_percentages\n",
    "fdv_list = find_fdv_percentages()"
   ]
  },
  {
   "cell_type": "code",
   "execution_count": 139,
   "id": "47f641de",
   "metadata": {},
   "outputs": [],
   "source": [
    "def sort_fdv_list(fdv_list):\n",
    "    sorted_list = sorted(fdv_list, key=lambda x: x[1])\n",
    "    return sorted_list\n",
    "ranked_fdv = sort_fdv_list(fdv_list)"
   ]
  },
  {
   "cell_type": "code",
   "execution_count": 140,
   "id": "0a69e2d4",
   "metadata": {},
   "outputs": [],
   "source": [
    "def format_names(ranked_fdv):\n",
    "    \n",
    "    cleaned_tuple = [(name.replace('-', ' '), round(decimal * 100, 2)) for name, decimal in ranked_fdv]\n",
    "    return cleaned_tuple\n",
    "\n",
    "converted_list = format_names(ranked_fdv)"
   ]
  },
  {
   "cell_type": "code",
   "execution_count": 141,
   "id": "9761fff8",
   "metadata": {},
   "outputs": [],
   "source": [
    "def return_table(converted_list):\n",
    "    headers = [\"Name\", \"Percentage\"]\n",
    "\n",
    "    # Convert decimals to percentages\n",
    "    data = [(name, f\"{decimal:.1f}%\") for name, decimal in converted_list]\n",
    "    \n",
    "    #print(tabulate(data, headers=headers, tablefmt=\"grid\"))\n",
    "    \n",
    "    table = ((tabulate(data, headers=headers, tablefmt=\"grid\")))\n",
    "\n",
    "    return table\n",
    "\n",
    "fdv_table = return_table(converted_list)"
   ]
  },
  {
   "cell_type": "code",
   "execution_count": 142,
   "id": "9eccc8f9",
   "metadata": {
    "scrolled": true
   },
   "outputs": [
    {
     "name": "stdout",
     "output_type": "stream",
     "text": [
      "+--------------------+--------------+\n",
      "| Name               | Percentage   |\n",
      "+====================+==============+\n",
      "| sui                | 7.0%         |\n",
      "+--------------------+--------------+\n",
      "| arbitrum           | 13.0%        |\n",
      "+--------------------+--------------+\n",
      "| optimism           | 16.0%        |\n",
      "+--------------------+--------------+\n",
      "| okb                | 20.0%        |\n",
      "+--------------------+--------------+\n",
      "| aptos              | 21.0%        |\n",
      "+--------------------+--------------+\n",
      "| filecoin           | 22.0%        |\n",
      "+--------------------+--------------+\n",
      "| curve dao token    | 26.0%        |\n",
      "+--------------------+--------------+\n",
      "| whitebit           | 36.0%        |\n",
      "+--------------------+--------------+\n",
      "| xdce crowd sale    | 37.0%        |\n",
      "+--------------------+--------------+\n",
      "| apecoin            | 37.0%        |\n",
      "+--------------------+--------------+\n",
      "| trust wallet token | 42.0%        |\n",
      "+--------------------+--------------+\n",
      "| axie infinity      | 43.0%        |\n",
      "+--------------------+--------------+\n",
      "| radix              | 43.0%        |\n",
      "+--------------------+--------------+\n",
      "| gatechain token    | 46.0%        |\n",
      "+--------------------+--------------+\n",
      "| avalanche 2        | 48.0%        |\n",
      "+--------------------+--------------+\n"
     ]
    }
   ],
   "source": [
    "print(fdv_table)\n"
   ]
  },
  {
   "cell_type": "code",
   "execution_count": 143,
   "id": "c169d313",
   "metadata": {},
   "outputs": [
    {
     "name": "stdout",
     "output_type": "stream",
     "text": [
      "Worst FDV for top 100:\n",
      "sui: 7.0%\n",
      "arbitrum: 13.0%\n",
      "optimism: 16.0%\n",
      "okb: 20.0%\n",
      "aptos: 21.0%\n",
      "\n",
      "Best FDV for bottom 100:\n",
      "trust wallet token: 42.0\n",
      "axie infinity: 43.0\n",
      "radix: 43.0\n",
      "gatechain token: 46.0\n",
      "avalanche 2: 48.0\n"
     ]
    }
   ],
   "source": [
    "def print_top_bottom_names(converted_list):\n",
    "    # Sort the data based on FDV in ascending order\n",
    "    sorted_data = sorted(converted_list, key=lambda x: x[1])\n",
    "\n",
    "    # Print the worst FDV for the top 100\n",
    "    print(\"Worst FDV for top 100:\")\n",
    "    for name, fdv in sorted_data[:5]:\n",
    "        print(f\"{name}: {fdv:}%\")\n",
    "        \n",
    "    # Print the best FDV for the bottom 100\n",
    "    print(\"\\nBest FDV for bottom 100:\")\n",
    "    for name, fdv in sorted_data[-5:]:\n",
    "        print(f\"{name}: {fdv}\")\n",
    "    \n",
    "\n",
    "print_top_bottom_names(converted_list)"
   ]
  },
  {
   "cell_type": "code",
   "execution_count": null,
   "id": "6886a482",
   "metadata": {},
   "outputs": [],
   "source": []
  }
 ],
 "metadata": {
  "kernelspec": {
   "display_name": "Python 3",
   "language": "python",
   "name": "python3"
  },
  "language_info": {
   "codemirror_mode": {
    "name": "ipython",
    "version": 3
   },
   "file_extension": ".py",
   "mimetype": "text/x-python",
   "name": "python",
   "nbconvert_exporter": "python",
   "pygments_lexer": "ipython3",
   "version": "3.8.8"
  }
 },
 "nbformat": 4,
 "nbformat_minor": 5
}
